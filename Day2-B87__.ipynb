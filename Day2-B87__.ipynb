{
 "cells": [
  {
   "cell_type": "code",
   "execution_count": null,
   "id": "2d56dd4d-1f0c-4559-890d-c48b50c99bf3",
   "metadata": {},
   "outputs": [],
   "source": [
    "LISTS"
   ]
  },
  {
   "cell_type": "code",
   "execution_count": 1,
   "id": "b3700e41-a9c2-4f39-85bf-f4305267eba8",
   "metadata": {},
   "outputs": [
    {
     "name": "stdout",
     "output_type": "stream",
     "text": [
      "joshua\n"
     ]
    }
   ],
   "source": [
    "name=\"joshua\"\n",
    "print(name)"
   ]
  },
  {
   "cell_type": "code",
   "execution_count": 3,
   "id": "92187630-e64a-499d-b30c-aed0ea7b649c",
   "metadata": {},
   "outputs": [
    {
     "name": "stdout",
     "output_type": "stream",
     "text": [
      "Joshua\n"
     ]
    }
   ],
   "source": [
    "print(name.title())"
   ]
  },
  {
   "cell_type": "code",
   "execution_count": 5,
   "id": "b0ac61c3-2713-4170-b145-e4906129cdcc",
   "metadata": {},
   "outputs": [
    {
     "name": "stdout",
     "output_type": "stream",
     "text": [
      "sowrya\n"
     ]
    }
   ],
   "source": [
    "name1='sowrya'\n",
    "print(name1)"
   ]
  },
  {
   "cell_type": "code",
   "execution_count": 7,
   "id": "49b4d202-5970-4276-84b1-70826512097b",
   "metadata": {},
   "outputs": [
    {
     "data": {
      "text/plain": [
       "str"
      ]
     },
     "execution_count": 7,
     "metadata": {},
     "output_type": "execute_result"
    }
   ],
   "source": [
    "type(name)"
   ]
  },
  {
   "cell_type": "code",
   "execution_count": 9,
   "id": "54b20d16-74c6-4e31-81ea-b2a7bf742d7e",
   "metadata": {},
   "outputs": [
    {
     "data": {
      "text/plain": [
       "str"
      ]
     },
     "execution_count": 9,
     "metadata": {},
     "output_type": "execute_result"
    }
   ],
   "source": [
    "type(name1)"
   ]
  },
  {
   "cell_type": "code",
   "execution_count": 11,
   "id": "fa3cbd40-cca6-450c-8b64-b1d6de2e4622",
   "metadata": {},
   "outputs": [],
   "source": [
    "fullname=\"ashwin raj\""
   ]
  },
  {
   "cell_type": "code",
   "execution_count": 13,
   "id": "fc91cdb6-3f8a-4e6f-ac31-59e3e4619a56",
   "metadata": {},
   "outputs": [
    {
     "data": {
      "text/plain": [
       "str"
      ]
     },
     "execution_count": 13,
     "metadata": {},
     "output_type": "execute_result"
    }
   ],
   "source": [
    "type(fullname)"
   ]
  },
  {
   "cell_type": "code",
   "execution_count": 15,
   "id": "0c43861c-9e98-453e-8657-519e04392927",
   "metadata": {},
   "outputs": [
    {
     "name": "stdout",
     "output_type": "stream",
     "text": [
      "ashwin raj\n"
     ]
    }
   ],
   "source": [
    "print(fullname)"
   ]
  },
  {
   "cell_type": "code",
   "execution_count": 21,
   "id": "385ebd39-cff5-473e-a0ca-8007de1e4574",
   "metadata": {},
   "outputs": [
    {
     "name": "stdout",
     "output_type": "stream",
     "text": [
      "Ashwin Raj\n"
     ]
    }
   ],
   "source": [
    "print(fullname.title())"
   ]
  },
  {
   "cell_type": "code",
   "execution_count": 23,
   "id": "da4bb163-b928-4cd9-9ad3-3aa35235fd6f",
   "metadata": {},
   "outputs": [
    {
     "name": "stdout",
     "output_type": "stream",
     "text": [
      "ashwin raj\n"
     ]
    }
   ],
   "source": [
    "print(fullname)"
   ]
  },
  {
   "cell_type": "code",
   "execution_count": 25,
   "id": "83566f7e-bced-4634-a81d-eaf2ec811992",
   "metadata": {},
   "outputs": [
    {
     "name": "stdout",
     "output_type": "stream",
     "text": [
      "ASHWIN RAJ\n"
     ]
    }
   ],
   "source": [
    "print(fullname.upper())"
   ]
  },
  {
   "cell_type": "code",
   "execution_count": 27,
   "id": "9b35ae72-ed43-41b4-8ffe-10663498f591",
   "metadata": {},
   "outputs": [
    {
     "name": "stdout",
     "output_type": "stream",
     "text": [
      "ashwin raj\n"
     ]
    }
   ],
   "source": [
    "print(fullname.lower())"
   ]
  },
  {
   "cell_type": "code",
   "execution_count": 29,
   "id": "1d30bb4f-9653-4eac-9d4f-6cc7697408eb",
   "metadata": {},
   "outputs": [
    {
     "name": "stdout",
     "output_type": "stream",
     "text": [
      "6\n"
     ]
    }
   ],
   "source": [
    "print(len(name))"
   ]
  },
  {
   "cell_type": "code",
   "execution_count": 31,
   "id": "cec3bb22-d2af-469c-9fcf-51260b74d356",
   "metadata": {},
   "outputs": [
    {
     "ename": "SyntaxError",
     "evalue": "incomplete input (771226798.py, line 1)",
     "output_type": "error",
     "traceback": [
      "\u001b[1;36m  Cell \u001b[1;32mIn[31], line 1\u001b[1;36m\u001b[0m\n\u001b[1;33m    print(len(name1)\u001b[0m\n\u001b[1;37m                    ^\u001b[0m\n\u001b[1;31mSyntaxError\u001b[0m\u001b[1;31m:\u001b[0m incomplete input\n"
     ]
    }
   ],
   "source": [
    "print(len(name1)"
   ]
  },
  {
   "cell_type": "code",
   "execution_count": 33,
   "id": "cc75f4e4-2a2b-4746-a1f2-239bc77e5c72",
   "metadata": {},
   "outputs": [
    {
     "name": "stdout",
     "output_type": "stream",
     "text": [
      "6\n"
     ]
    }
   ],
   "source": [
    "print(len(name1))"
   ]
  },
  {
   "cell_type": "code",
   "execution_count": 35,
   "id": "6962a182-4d58-4e82-8159-e1212c85e9d0",
   "metadata": {},
   "outputs": [
    {
     "name": "stdout",
     "output_type": "stream",
     "text": [
      "10\n"
     ]
    }
   ],
   "source": [
    "print(len(fullname))"
   ]
  },
  {
   "cell_type": "code",
   "execution_count": null,
   "id": "cbae72cb-d8a5-49a8-a533-e364688f3d04",
   "metadata": {},
   "outputs": [],
   "source": []
  }
 ],
 "metadata": {
  "kernelspec": {
   "display_name": "Python 3 (ipykernel)",
   "language": "python",
   "name": "python3"
  },
  "language_info": {
   "codemirror_mode": {
    "name": "ipython",
    "version": 3
   },
   "file_extension": ".py",
   "mimetype": "text/x-python",
   "name": "python",
   "nbconvert_exporter": "python",
   "pygments_lexer": "ipython3",
   "version": "3.12.4"
  }
 },
 "nbformat": 4,
 "nbformat_minor": 5
}
